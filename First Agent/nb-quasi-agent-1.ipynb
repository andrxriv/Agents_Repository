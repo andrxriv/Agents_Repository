{
 "cells": [
  {
   "cell_type": "code",
   "execution_count": 112,
   "id": "5f03d08e",
   "metadata": {},
   "outputs": [
    {
     "name": "stdout",
     "output_type": "stream",
     "text": [
      "Requirement already satisfied: litellm in c:\\users\\andrx\\anaconda3\\lib\\site-packages (1.74.9.post1)\n",
      "Requirement already satisfied: aiohttp>=3.10 in c:\\users\\andrx\\anaconda3\\lib\\site-packages (from litellm) (3.10.5)\n",
      "Requirement already satisfied: click in c:\\users\\andrx\\anaconda3\\lib\\site-packages (from litellm) (8.1.7)\n",
      "Requirement already satisfied: httpx>=0.23.0 in c:\\users\\andrx\\anaconda3\\lib\\site-packages (from litellm) (0.27.0)\n",
      "Requirement already satisfied: importlib-metadata>=6.8.0 in c:\\users\\andrx\\anaconda3\\lib\\site-packages (from litellm) (7.0.1)\n",
      "Requirement already satisfied: jinja2<4.0.0,>=3.1.2 in c:\\users\\andrx\\anaconda3\\lib\\site-packages (from litellm) (3.1.4)\n",
      "Requirement already satisfied: jsonschema<5.0.0,>=4.22.0 in c:\\users\\andrx\\anaconda3\\lib\\site-packages (from litellm) (4.23.0)\n",
      "Requirement already satisfied: openai>=1.68.2 in c:\\users\\andrx\\anaconda3\\lib\\site-packages (from litellm) (1.97.1)\n",
      "Requirement already satisfied: pydantic<3.0.0,>=2.5.0 in c:\\users\\andrx\\anaconda3\\lib\\site-packages (from litellm) (2.8.2)\n",
      "Requirement already satisfied: python-dotenv>=0.2.0 in c:\\users\\andrx\\anaconda3\\lib\\site-packages (from litellm) (0.21.0)\n",
      "Requirement already satisfied: tiktoken>=0.7.0 in c:\\users\\andrx\\anaconda3\\lib\\site-packages (from litellm) (0.9.0)\n",
      "Requirement already satisfied: tokenizers in c:\\users\\andrx\\anaconda3\\lib\\site-packages (from litellm) (0.21.4)\n",
      "Requirement already satisfied: aiohappyeyeballs>=2.3.0 in c:\\users\\andrx\\anaconda3\\lib\\site-packages (from aiohttp>=3.10->litellm) (2.4.0)\n",
      "Requirement already satisfied: aiosignal>=1.1.2 in c:\\users\\andrx\\anaconda3\\lib\\site-packages (from aiohttp>=3.10->litellm) (1.2.0)\n",
      "Requirement already satisfied: attrs>=17.3.0 in c:\\users\\andrx\\anaconda3\\lib\\site-packages (from aiohttp>=3.10->litellm) (23.1.0)\n",
      "Requirement already satisfied: frozenlist>=1.1.1 in c:\\users\\andrx\\anaconda3\\lib\\site-packages (from aiohttp>=3.10->litellm) (1.4.0)\n",
      "Requirement already satisfied: multidict<7.0,>=4.5 in c:\\users\\andrx\\anaconda3\\lib\\site-packages (from aiohttp>=3.10->litellm) (6.0.4)\n",
      "Requirement already satisfied: yarl<2.0,>=1.0 in c:\\users\\andrx\\anaconda3\\lib\\site-packages (from aiohttp>=3.10->litellm) (1.11.0)\n",
      "Requirement already satisfied: anyio in c:\\users\\andrx\\anaconda3\\lib\\site-packages (from httpx>=0.23.0->litellm) (4.2.0)\n",
      "Requirement already satisfied: certifi in c:\\users\\andrx\\anaconda3\\lib\\site-packages (from httpx>=0.23.0->litellm) (2024.8.30)\n",
      "Requirement already satisfied: httpcore==1.* in c:\\users\\andrx\\anaconda3\\lib\\site-packages (from httpx>=0.23.0->litellm) (1.0.2)\n",
      "Requirement already satisfied: idna in c:\\users\\andrx\\anaconda3\\lib\\site-packages (from httpx>=0.23.0->litellm) (3.7)\n",
      "Requirement already satisfied: sniffio in c:\\users\\andrx\\anaconda3\\lib\\site-packages (from httpx>=0.23.0->litellm) (1.3.0)\n",
      "Requirement already satisfied: h11<0.15,>=0.13 in c:\\users\\andrx\\anaconda3\\lib\\site-packages (from httpcore==1.*->httpx>=0.23.0->litellm) (0.14.0)\n",
      "Requirement already satisfied: zipp>=0.5 in c:\\users\\andrx\\anaconda3\\lib\\site-packages (from importlib-metadata>=6.8.0->litellm) (3.17.0)\n",
      "Requirement already satisfied: MarkupSafe>=2.0 in c:\\users\\andrx\\anaconda3\\lib\\site-packages (from jinja2<4.0.0,>=3.1.2->litellm) (2.1.3)\n",
      "Requirement already satisfied: jsonschema-specifications>=2023.03.6 in c:\\users\\andrx\\anaconda3\\lib\\site-packages (from jsonschema<5.0.0,>=4.22.0->litellm) (2023.7.1)\n",
      "Requirement already satisfied: referencing>=0.28.4 in c:\\users\\andrx\\anaconda3\\lib\\site-packages (from jsonschema<5.0.0,>=4.22.0->litellm) (0.30.2)\n",
      "Requirement already satisfied: rpds-py>=0.7.1 in c:\\users\\andrx\\anaconda3\\lib\\site-packages (from jsonschema<5.0.0,>=4.22.0->litellm) (0.10.6)\n",
      "Requirement already satisfied: distro<2,>=1.7.0 in c:\\users\\andrx\\anaconda3\\lib\\site-packages (from openai>=1.68.2->litellm) (1.9.0)\n",
      "Requirement already satisfied: jiter<1,>=0.4.0 in c:\\users\\andrx\\anaconda3\\lib\\site-packages (from openai>=1.68.2->litellm) (0.10.0)\n",
      "Requirement already satisfied: tqdm>4 in c:\\users\\andrx\\anaconda3\\lib\\site-packages (from openai>=1.68.2->litellm) (4.66.5)\n",
      "Requirement already satisfied: typing-extensions<5,>=4.11 in c:\\users\\andrx\\anaconda3\\lib\\site-packages (from openai>=1.68.2->litellm) (4.11.0)\n",
      "Requirement already satisfied: annotated-types>=0.4.0 in c:\\users\\andrx\\anaconda3\\lib\\site-packages (from pydantic<3.0.0,>=2.5.0->litellm) (0.6.0)\n",
      "Requirement already satisfied: pydantic-core==2.20.1 in c:\\users\\andrx\\anaconda3\\lib\\site-packages (from pydantic<3.0.0,>=2.5.0->litellm) (2.20.1)\n",
      "Requirement already satisfied: regex>=2022.1.18 in c:\\users\\andrx\\anaconda3\\lib\\site-packages (from tiktoken>=0.7.0->litellm) (2024.9.11)\n",
      "Requirement already satisfied: requests>=2.26.0 in c:\\users\\andrx\\anaconda3\\lib\\site-packages (from tiktoken>=0.7.0->litellm) (2.32.3)\n",
      "Requirement already satisfied: colorama in c:\\users\\andrx\\anaconda3\\lib\\site-packages (from click->litellm) (0.4.6)\n",
      "Requirement already satisfied: huggingface-hub<1.0,>=0.16.4 in c:\\users\\andrx\\anaconda3\\lib\\site-packages (from tokenizers->litellm) (0.34.3)\n",
      "Requirement already satisfied: filelock in c:\\users\\andrx\\anaconda3\\lib\\site-packages (from huggingface-hub<1.0,>=0.16.4->tokenizers->litellm) (3.13.1)\n",
      "Requirement already satisfied: fsspec>=2023.5.0 in c:\\users\\andrx\\anaconda3\\lib\\site-packages (from huggingface-hub<1.0,>=0.16.4->tokenizers->litellm) (2024.6.1)\n",
      "Requirement already satisfied: packaging>=20.9 in c:\\users\\andrx\\anaconda3\\lib\\site-packages (from huggingface-hub<1.0,>=0.16.4->tokenizers->litellm) (24.1)\n",
      "Requirement already satisfied: pyyaml>=5.1 in c:\\users\\andrx\\anaconda3\\lib\\site-packages (from huggingface-hub<1.0,>=0.16.4->tokenizers->litellm) (6.0.1)\n",
      "Requirement already satisfied: charset-normalizer<4,>=2 in c:\\users\\andrx\\anaconda3\\lib\\site-packages (from requests>=2.26.0->tiktoken>=0.7.0->litellm) (3.3.2)\n",
      "Requirement already satisfied: urllib3<3,>=1.21.1 in c:\\users\\andrx\\anaconda3\\lib\\site-packages (from requests>=2.26.0->tiktoken>=0.7.0->litellm) (2.2.3)\n"
     ]
    }
   ],
   "source": [
    "!pip install litellm"
   ]
  },
  {
   "cell_type": "code",
   "execution_count": null,
   "id": "17d572d6",
   "metadata": {},
   "outputs": [],
   "source": [
    "import os\n",
    "# from google.colab import userdata\n",
    "# api_key = userdata.get('OPENAI_API_KEY')\n",
    "\n",
    "api_key = os.getenv(\"OPENAI_API_KEY\")\n",
    "# print(f\"API KEY: {api_key}\")"
   ]
  },
  {
   "cell_type": "code",
   "execution_count": 10,
   "id": "ad74bfe1",
   "metadata": {},
   "outputs": [],
   "source": [
    "from litellm import completion\n",
    "from typing import List, Dict\n",
    "import json"
   ]
  },
  {
   "cell_type": "code",
   "execution_count": 11,
   "id": "4ec461c2",
   "metadata": {},
   "outputs": [],
   "source": [
    "def generate_response(messages: List[Dict]) -> str:\n",
    "    \"\"\"Call LLM to get response\"\"\"\n",
    "    response = completion(\n",
    "        model=\"openai/gpt-4o\",\n",
    "        messages=messages,\n",
    "        max_tokens=1024\n",
    "    )\n",
    "    return response.choices[0].message.content"
   ]
  },
  {
   "cell_type": "code",
   "execution_count": 12,
   "id": "2a3ba378",
   "metadata": {},
   "outputs": [],
   "source": [
    "def extract_code_block(response: str) -> str:\n",
    "    \"\"\"Extract code block from response\"\"\"\n",
    "    if not '```' in response:\n",
    "        return response\n",
    "\n",
    "    code_block = response.split('```')[1].strip()\n",
    "    if code_block.startswith(\"python\"):\n",
    "        code_block = code_block[6:]\n",
    "\n",
    "    return code_block"
   ]
  },
  {
   "cell_type": "code",
   "execution_count": 62,
   "id": "7dc5c88c",
   "metadata": {},
   "outputs": [],
   "source": [
    "agent_rules = [{\n",
    "    \"role\": \"system\",\n",
    "    \"content\": \"\"\"\n",
    "You are an AI agent that can perform tasks by using available tools.\n",
    "\n",
    "Available tools:\n",
    "- list_files() -> List[str]: List all files in the current directory.\n",
    "- read_file(file_name: str) -> str: Read the content of a file.\n",
    "- terminate(message: str): End the agent loop and print a summary to the user.\n",
    "\n",
    "If a user asks about files, list them before reading.\n",
    "\n",
    "Every returned response MUST have an action.\n",
    "Every response MUST be in this format:\n",
    "```\n",
    "{\n",
    "    \"action\": {\n",
    "        \"tool_name\": \"insert tool_name\",\n",
    "        \"args\": {\n",
    "            ...fill in any required arguments here...\n",
    "        }\n",
    "    }\n",
    "}\n",
    "```\n",
    "\"\"\"\n",
    "}]"
   ]
  },
  {
   "cell_type": "code",
   "execution_count": 46,
   "id": "2da1817a",
   "metadata": {},
   "outputs": [],
   "source": [
    "memory = [\n",
    "    {\"role\": \"user\", \"content\": \"What files are in this directory?\"},\n",
    "    {\"role\": \"assistant\", \"content\": \"```\\\"action\\\":\\n{\\\"tool_name\\\":\\\"list_files\\\",\\\"args\\\":{}}\\n```\"},\n",
    "    {\"role\": \"user\", \"content\": \"[\\\"test_files/file1.txt\\\", \\\"test_files/file2.txt\\\"]\"}\n",
    "]"
   ]
  },
  {
   "cell_type": "code",
   "execution_count": null,
   "id": "61ebfb75",
   "metadata": {},
   "outputs": [],
   "source": [
    "def extract_markdown_block(response: str):\n",
    "    \"\"\"Parse the action from the response.\"\"\"\n",
    "    # Assuming the action is the first word in the response\n",
    "    \"\"\"Extract code block from response\"\"\"\n",
    "    if not '```json' in response:\n",
    "        return response\n",
    "\n",
    "    code_block = response.split('```json')[1].strip()\n",
    "\n",
    "    # strip the last 3 characters\n",
    "    parse_block = json.loads(code_block[:-3])\n",
    "    return parse_block[\"action\"]\n",
    "\n",
    "\n",
    "def parse_action(response: str) -> Dict:\n",
    "    \"\"\"Parse the LLM response into a structured action dictionary.\"\"\"\n",
    "    try:\n",
    "        response_json = extract_markdown_block(response)\n",
    "        # print(f\"response : {response_json[\"tool_name\"]}\")\n",
    "        if response_json[\"tool_name\"] and response_json[\"args\"]:\n",
    "            print(f\"json response : {print(response_json)}\")\n",
    "            return response_json\n",
    "        else:\n",
    "            return {\"tool_name\": \"error\", \"args\": {\"message\": \"You must respond with a JSON tool invocation.\"}}\n",
    "    except json.JSONDecodeError:\n",
    "        return {\"tool_name\": \"Unable to Parse\", \"args\": {\"message\": \"Invalid JSON response. You must respond with a JSON tool invocation.\"}}"
   ]
  },
  {
   "cell_type": "code",
   "execution_count": 108,
   "id": "f1780ed3",
   "metadata": {},
   "outputs": [],
   "source": [
    "def list_files():\n",
    "    return os.listdir()\n",
    "\n",
    "def read_file(action):\n",
    "    return \"Files read\""
   ]
  },
  {
   "cell_type": "code",
   "execution_count": null,
   "id": "dc6b48e4",
   "metadata": {},
   "outputs": [
    {
     "name": "stdout",
     "output_type": "stream",
     "text": [
      "Agent thinking...\n",
      "Agent response: ```json\n",
      "{\n",
      "    \"action\": {\n",
      "        \"tool_name\": \"terminate\",\n",
      "        \"args\": {\n",
      "            \"message\": \"I have listed and attempted to read the files: 'test_files/file1.txt' and 'test_files/file2.txt'.\"\n",
      "        }\n",
      "    }\n",
      "}\n",
      "```\n",
      "{'tool_name': 'terminate', 'args': {'message': \"I have listed and attempted to read the files: 'test_files/file1.txt' and 'test_files/file2.txt'.\"}}\n",
      "json response : None\n",
      "action: {'tool_name': 'terminate', 'args': {'message': \"I have listed and attempted to read the files: 'test_files/file1.txt' and 'test_files/file2.txt'.\"}}\n",
      "Action: terminate\n",
      "I have listed and attempted to read the files: 'test_files/file1.txt' and 'test_files/file2.txt'.\n"
     ]
    }
   ],
   "source": [
    "# The Agent Loop\n",
    "iterations = 0\n",
    "max_iterations = 3\n",
    "while iterations < max_iterations:\n",
    "\n",
    "    # 1. Construct prompt: Combine agent rules with memory\n",
    "    prompt = agent_rules + memory\n",
    "\n",
    "    # 2. Generate response from LLM\n",
    "    print(\"Agent thinking...\")\n",
    "    response = generate_response(prompt)\n",
    "    print(f\"Agent response: {response}\")\n",
    "\n",
    "    # 3. Parse response to determine action\n",
    "    action = parse_action(response)\n",
    "    print(f\"action: {action}\")\n",
    "    result = \"Action executed\"\n",
    "    # print(f\"Action Tool Name: {action[\"tool_name\"]}\")\n",
    "    print(f\"Action: {action[\"tool_name\"]}\")\n",
    "    if action[\"tool_name\"] == \"list_files\":\n",
    "        result = {\"result\":list_files()}\n",
    "    elif action[\"tool_name\"] == \"read_file\":\n",
    "        result = {\"result\":read_file(action[\"args\"][\"file_name\"])}\n",
    "    elif action[\"tool_name\"] == \"error\":\n",
    "        result = {\"error\":action[\"args\"][\"message\"]}\n",
    "    elif action[\"tool_name\"] == \"terminate\":\n",
    "        print(action[\"args\"][\"message\"])\n",
    "        break\n",
    "    else:\n",
    "        result = {\"error\":\"Unknown action: \"+action[\"tool_name\"]}\n",
    "\n",
    "    print(f\"Action result: {result}\")\n",
    "\n",
    "    # 5. Update memory with response and results\n",
    "    memory.extend([\n",
    "        {\"role\": \"assistant\", \"content\": response},\n",
    "        {\"role\": \"user\", \"content\": json.dumps(result)}\n",
    "    ])\n",
    "\n",
    "    # 6. Check termination condition\n",
    "    if action[\"tool_name\"] == \"terminate\":\n",
    "        print(f\"tool_name : {action['tool_name']}\")\n",
    "        break\n",
    "\n",
    "    iterations += 1"
   ]
  }
 ],
 "metadata": {
  "kernelspec": {
   "display_name": "base",
   "language": "python",
   "name": "python3"
  },
  "language_info": {
   "codemirror_mode": {
    "name": "ipython",
    "version": 3
   },
   "file_extension": ".py",
   "mimetype": "text/x-python",
   "name": "python",
   "nbconvert_exporter": "python",
   "pygments_lexer": "ipython3",
   "version": "3.12.7"
  }
 },
 "nbformat": 4,
 "nbformat_minor": 5
}
